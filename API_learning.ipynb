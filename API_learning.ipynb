{
 "cells": [
  {
   "cell_type": "code",
   "execution_count": 1,
   "metadata": {},
   "outputs": [
    {
     "name": "stdout",
     "output_type": "stream",
     "text": [
      "Logging in the system.\n",
      "Creating the execution. \n",
      "Execution name: GEO_AE8_SD2Q-wyhcecgujc \n",
      "Execution ID: 32198\n",
      "Starting the execution.\n",
      "Execution started. \n",
      "Still in RUNNING state. \n",
      "Still in RUNNING state. \n",
      "New state:ERROR\n",
      "Getting output VOTable.\n"
     ]
    }
   ],
   "source": [
    "import sapi\n",
    "import random\n",
    "import string\n",
    "import time\n",
    "import sys\n",
    "\n",
    "def randomword(length):\n",
    "    return ''.join(random.choice(string.lowercase) for i in range(length))\n",
    "\n",
    "# Some variables must be defined by the user here.\n",
    "## User name. Should be the same than the one in the config file.\n",
    "username = 'atamanje'\n",
    "\n",
    "##  Project  name  where  the  execution  is  to  be  saved.  The  project  must already exists.\n",
    "prjname = 'API_learning'\n",
    "\n",
    "## Path to the workflow to be executed. Can be public or private. The path can be checked using the HMI, in the \"Workflow\" menu.\n",
    "workflow = '/common/workflows/GEO_AE8_SD2Q'\n",
    "\n",
    "## Name of the execution. Here we use a fixed part and a random alphabetic section. This is done to produce unique names for each script execution and avoid collisions.\n",
    "execname = 'GEO_AE8_SD2Q-' + randomword(10)\n",
    "\n",
    "## VOTable containing the input data necessary for the execution.\n",
    "votFile = 'geo_ae8_sd2q_input.vot'\n",
    "\n",
    "## XML file containing the links between the required parameters to start \n",
    "## an execution and the associated resource in the input VOT.\n",
    "## The text @path@ will be replaced by the actual path automatically.\n",
    "datamodel = 'geo_ae8_sd2q_datamodel.xml'\n",
    "\n",
    "# End of user-defined variables.\n",
    "# Log in\n",
    "print(\"Logging in the system.\")\n",
    "s = sapi.Session(\"global.conf\", \"\")\n",
    "s.readglobalconfig()\n",
    "ssn = s.login()\n",
    "\n",
    "# Create execution.\n",
    "print \"Creating the execution. \"\n",
    "myId=s.createExecution(ssn, username, prjname, execname, workflow, votFile, datamodel)\n",
    "\n",
    "# Print the execution ID returned. Can be useful to check in the HMI.\n",
    "print \"Execution name: \" + execname + \" \"\n",
    "print \"Execution ID: \" + str(myId)\n",
    "\n",
    "# Start execution\n",
    "print \"Starting the execution.\"\n",
    "sys.stdout.flush()\n",
    "s.startExecution(ssn, myId)\n",
    "sys.stdout.flush()\n",
    "print \"Execution started. \"\n",
    "\n",
    "# Check status until not in RUNNING state. It could be FINISHED or ERROR. It will be \"WAITING_FOR_INPUTS\" if the startExecution step didn't work. \n",
    "n = 0\n",
    "while n < 100 : \n",
    "    n = n + 1\n",
    "    status = s.getExecutionStatus(ssn, myId)\n",
    "    if hasattr(status,'state'):\n",
    "        if status.state == \"RUNNING\":\n",
    "            print(\"Still in RUNNING state. \")\n",
    "            time.sleep(5)\n",
    "        else:\n",
    "            print(\"New state:\"+ status.state)\n",
    "            break\n",
    "    else:\n",
    "        print \"NO STATUS \" + status\n",
    "        break\n",
    "# print n\n",
    "\n",
    "# Get VOTable for the whole output information\n",
    "print(\"Getting output VOTable.\")\n",
    "outputvot = s.getVOT(ssn, username, prjname, execname)\n",
    "\n",
    "# Save the VOT to disk. It will be a zip file with all the content.\n",
    "target = open('output_votable.zip','wb')\n",
    "target.write(outputvot)\n",
    "target.close()"
   ]
  },
  {
   "cell_type": "code",
   "execution_count": null,
   "metadata": {
    "collapsed": true
   },
   "outputs": [],
   "source": []
  }
 ],
 "metadata": {
  "kernelspec": {
   "display_name": "Python 2",
   "language": "python",
   "name": "python2"
  },
  "language_info": {
   "codemirror_mode": {
    "name": "ipython",
    "version": 2
   },
   "file_extension": ".py",
   "mimetype": "text/x-python",
   "name": "python",
   "nbconvert_exporter": "python",
   "pygments_lexer": "ipython2",
   "version": "2.7.13"
  }
 },
 "nbformat": 4,
 "nbformat_minor": 2
}
