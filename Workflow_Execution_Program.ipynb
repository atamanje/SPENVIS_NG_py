{
 "cells": [
  {
   "cell_type": "code",
   "execution_count": 1,
   "metadata": {},
   "outputs": [
    {
     "name": "stdout",
     "output_type": "stream",
     "text": [
      "Done Section 1/5\n",
      "Logging in the system.\n",
      "Done Section 2/5\n",
      "Creating the execution. \n"
     ]
    },
    {
     "name": "stderr",
     "output_type": "stream",
     "text": [
      "No handlers could be found for logger \"suds.client\"\n"
     ]
    },
    {
     "ename": "AttributeError",
     "evalue": "'WebFault' object has no attribute 'id'",
     "output_type": "error",
     "traceback": [
      "\u001b[1;31m---------------------------------------------------------------------------\u001b[0m",
      "\u001b[1;31mAttributeError\u001b[0m                            Traceback (most recent call last)",
      "\u001b[1;32m<ipython-input-1-77ba757864bc>\u001b[0m in \u001b[0;36m<module>\u001b[1;34m()\u001b[0m\n\u001b[0;32m     50\u001b[0m \u001b[1;31m# Create execution.\u001b[0m\u001b[1;33m\u001b[0m\u001b[1;33m\u001b[0m\u001b[0m\n\u001b[0;32m     51\u001b[0m \u001b[1;32mprint\u001b[0m \u001b[1;34m\"Creating the execution. \"\u001b[0m\u001b[1;33m\u001b[0m\u001b[0m\n\u001b[1;32m---> 52\u001b[1;33m \u001b[0mmyId\u001b[0m\u001b[1;33m=\u001b[0m\u001b[0ms\u001b[0m\u001b[1;33m.\u001b[0m\u001b[0mcreateExecution\u001b[0m\u001b[1;33m(\u001b[0m\u001b[0mssn\u001b[0m\u001b[1;33m,\u001b[0m \u001b[0musername\u001b[0m\u001b[1;33m,\u001b[0m \u001b[0mprjname\u001b[0m\u001b[1;33m,\u001b[0m \u001b[0mexecname\u001b[0m\u001b[1;33m,\u001b[0m \u001b[0mworkflow\u001b[0m\u001b[1;33m,\u001b[0m \u001b[0mvotFile\u001b[0m\u001b[1;33m,\u001b[0m \u001b[0mdatamodel\u001b[0m\u001b[1;33m)\u001b[0m\u001b[1;33m\u001b[0m\u001b[0m\n\u001b[0m\u001b[0;32m     53\u001b[0m \u001b[1;33m\u001b[0m\u001b[0m\n\u001b[0;32m     54\u001b[0m \u001b[1;31m# Print the execution ID returned. Can be useful to check in the HMI.\u001b[0m\u001b[1;33m\u001b[0m\u001b[1;33m\u001b[0m\u001b[0m\n",
      "\u001b[1;32mC:\\Users\\admin\\Desktop\\Jessie_SoD\\SPENVIS-NG_API\\API-CCMC\\sapi.pyc\u001b[0m in \u001b[0;36mcreateExecution\u001b[1;34m(self, ssn, username, prjname, execname, workflow, votFile, votInstance)\u001b[0m\n\u001b[0;32m    373\u001b[0m                 \u001b[0mmeta\u001b[0m \u001b[1;33m=\u001b[0m \u001b[0mself\u001b[0m\u001b[1;33m.\u001b[0m\u001b[0mgetComplexType\u001b[0m\u001b[1;33m(\u001b[0m\u001b[0mssn\u001b[0m\u001b[1;33m,\u001b[0m \u001b[0mRMSS\u001b[0m\u001b[1;33m,\u001b[0m \u001b[0mRMS\u001b[0m\u001b[1;33m,\u001b[0m \u001b[1;34m'XmlGroupResourceMetaDto'\u001b[0m\u001b[1;33m)\u001b[0m\u001b[1;33m\u001b[0m\u001b[0m\n\u001b[0;32m    374\u001b[0m                 \u001b[0mmeta\u001b[0m\u001b[1;33m.\u001b[0m\u001b[0mid\u001b[0m \u001b[1;33m=\u001b[0m \u001b[1;36m0\u001b[0m\u001b[1;33m\u001b[0m\u001b[0m\n\u001b[1;32m--> 375\u001b[1;33m                 \u001b[0mmeta\u001b[0m\u001b[1;33m.\u001b[0m\u001b[0mname\u001b[0m \u001b[1;33m=\u001b[0m \u001b[0mresult1\u001b[0m\u001b[1;33m.\u001b[0m\u001b[0mid\u001b[0m\u001b[1;33m\u001b[0m\u001b[0m\n\u001b[0m\u001b[0;32m    376\u001b[0m                 \u001b[0mmeta\u001b[0m\u001b[1;33m.\u001b[0m\u001b[0mcreated\u001b[0m \u001b[1;33m=\u001b[0m \u001b[0mnow\u001b[0m\u001b[1;33m\u001b[0m\u001b[0m\n\u001b[0;32m    377\u001b[0m                 \u001b[0mmeta\u001b[0m\u001b[1;33m.\u001b[0m\u001b[0mcreatedBy\u001b[0m \u001b[1;33m=\u001b[0m \u001b[1;34m\"\"\u001b[0m\u001b[1;33m\u001b[0m\u001b[0m\n",
      "\u001b[1;31mAttributeError\u001b[0m: 'WebFault' object has no attribute 'id'"
     ]
    }
   ],
   "source": [
    "### Import necessary packages and create a esecution key to ensure that the execution has a unique name \n",
    "\n",
    "import sapi\n",
    "import random\n",
    "import string\n",
    "import time\n",
    "import sys\n",
    "\n",
    "def randomword(length):\n",
    "    return ''.join(random.choice(string.lowercase) for i in range(length))\n",
    "\n",
    "# Print a finish message\n",
    "print \"Done Section 1/5\"\n",
    "\n",
    "### Setup the input parametres in order to run the execution\n",
    "\n",
    "# Some variables must be defined by the user here.\n",
    "## User name. Should be the same than the one in the config file.\n",
    "username = 'atamanje'\n",
    "\n",
    "##  Project  name  where  the  execution  is  to  be  saved.  The  project  must already exists.\n",
    "prjname = 'API_learning'\n",
    "\n",
    "## Path to the workflow to be executed. Can be public or private. The path can be checked using the HMI, in the \"Workflow\" menu.\n",
    "workflow = '/common/workflows/TRAJ_EARTH_GEN_d01'\n",
    "\n",
    "## Name of the execution. Here we use a fixed part and a random alphabetic section. This is done to produce unique names for each script execution and avoid collisions.\n",
    "execname = 'TRAJ_EARTH_GEN_d01-' + randomword(10)\n",
    "\n",
    "## VOTable containing the input data necessary for the execution.\n",
    "votFile = 'traj_earth_gen_d01_input.xml'\n",
    "\n",
    "## XML file containing the links between the required parameters to start \n",
    "## an execution and the associated resource in the input VOT.\n",
    "## The text @path@ will be replaced by the actual path automatically.\n",
    "datamodel = 'traj_earth_gen_d01_datamodel.xml'\n",
    "\n",
    "# End of user-defined variables.\n",
    "# Log in\n",
    "print(\"Logging in the system.\")\n",
    "s = sapi.Session(\"global.conf\", \"\")\n",
    "s.readglobalconfig()\n",
    "ssn = s.login()\n",
    "\n",
    "# Print a finish message\n",
    "print \"Done Section 2/5\"\n",
    "\n",
    "### Create and start the execution. Print out relavent information\n",
    "\n",
    "# Create execution.\n",
    "print \"Creating the execution. \"\n",
    "myId=s.createExecution(ssn, username, prjname, execname, workflow, votFile, datamodel)\n",
    "\n",
    "# Print the execution ID returned. Can be useful to check in the HMI.\n",
    "print \"Execution name: \" + execname + \" \"\n",
    "print \"Execution ID: \" + str(myId)\n",
    "\n",
    "# Start execution\n",
    "print \"Starting the execution.\"\n",
    "sys.stdout.flush()\n",
    "s.startExecution(ssn, myId)\n",
    "sys.stdout.flush()\n",
    "print \"Execution started. \"\n",
    "\n",
    "# Print a finish message\n",
    "print \"Done Section 3/5\"\n",
    "\n",
    "### Continue to check the status of the running execution to see when the process(es) have finished\n",
    "\n",
    "# Check status until not in RUNNING state. It could be FINISHED or ERROR. It will be \"WAITING_FOR_INPUTS\" if the startExecution step didn't work. \n",
    "n = 0\n",
    "while n < 100 : \n",
    "    n = n + 1\n",
    "    status = s.getExecutionStatus(ssn, myId)\n",
    "    if hasattr(status,'state'):\n",
    "        if status.state == \"RUNNING\":\n",
    "            print(\"Still in RUNNING state. \")\n",
    "            time.sleep(2.5)\n",
    "        else:\n",
    "            print(\"New state:\"+ status.state)\n",
    "            break\n",
    "    else:\n",
    "        print \"NO STATUS \" + status\n",
    "        break\n",
    "# print n\n",
    "\n",
    "# Print a finish message\n",
    "print \"Done Section 4/5\""
   ]
  },
  {
   "cell_type": "code",
   "execution_count": null,
   "metadata": {
    "collapsed": true
   },
   "outputs": [],
   "source": [
    "### Gather output information and write it into a .vot file\n",
    "\n",
    "# Get VOTable for the whole output information\n",
    "print(\"Getting output VOTable.\")\n",
    "outputvot = s.getVOT(ssn, username, prjname, execname)\n",
    "\n",
    "# Save the VOT to disk. It will be a zip file with all the content.\n",
    "target = open('output_votable.zip','wb')\n",
    "target.write(outputvot)\n",
    "target.close()\n",
    "\n",
    "# Print a finish message\n",
    "print \"Done Section 5/5\""
   ]
  }
 ],
 "metadata": {
  "kernelspec": {
   "display_name": "Python 2",
   "language": "python",
   "name": "python2"
  },
  "language_info": {
   "codemirror_mode": {
    "name": "ipython",
    "version": 2
   },
   "file_extension": ".py",
   "mimetype": "text/x-python",
   "name": "python",
   "nbconvert_exporter": "python",
   "pygments_lexer": "ipython2",
   "version": "2.7.13"
  }
 },
 "nbformat": 4,
 "nbformat_minor": 2
}
